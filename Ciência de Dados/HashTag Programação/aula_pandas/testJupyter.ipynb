{
 "cells": [
  {
   "cell_type": "code",
   "execution_count": 1,
   "id": "c8979c64-b8e1-4cfe-989f-2809bae66426",
   "metadata": {},
   "outputs": [],
   "source": [
    "import pandas as pd"
   ]
  },
  {
   "cell_type": "code",
   "execution_count": 5,
   "id": "87cae619-6621-4d75-a4ab-488b0f487f9d",
   "metadata": {},
   "outputs": [],
   "source": [
    "base = pd.read_csv('C:\\\\Users\\\\Thiago Santos\\\\Documents\\\\coisasMinhas\\\\Estudos\\\\Ciência de Dados\\\\HashTag Programação\\\\MOCK_DATA.csv')"
   ]
  },
  {
   "cell_type": "code",
   "execution_count": 3,
   "id": "b9ec3f20-8823-4a93-bf73-47562603c030",
   "metadata": {
    "collapsed": true,
    "jupyter": {
     "outputs_hidden": true
    }
   },
   "outputs": [
    {
     "data": {
      "text/html": [
       "<div>\n",
       "<style scoped>\n",
       "    .dataframe tbody tr th:only-of-type {\n",
       "        vertical-align: middle;\n",
       "    }\n",
       "\n",
       "    .dataframe tbody tr th {\n",
       "        vertical-align: top;\n",
       "    }\n",
       "\n",
       "    .dataframe thead th {\n",
       "        text-align: right;\n",
       "    }\n",
       "</style>\n",
       "<table border=\"1\" class=\"dataframe\">\n",
       "  <thead>\n",
       "    <tr style=\"text-align: right;\">\n",
       "      <th></th>\n",
       "      <th>id</th>\n",
       "      <th>produto</th>\n",
       "      <th>price</th>\n",
       "      <th>date</th>\n",
       "      <th>fabricante</th>\n",
       "    </tr>\n",
       "  </thead>\n",
       "  <tbody>\n",
       "    <tr>\n",
       "      <th>0</th>\n",
       "      <td>1</td>\n",
       "      <td>Wine - Piper Heidsieck Brut</td>\n",
       "      <td>66</td>\n",
       "      <td>04.06.2024</td>\n",
       "      <td>Innotype</td>\n",
       "    </tr>\n",
       "    <tr>\n",
       "      <th>1</th>\n",
       "      <td>2</td>\n",
       "      <td>Wine - Red, Mouton Cadet</td>\n",
       "      <td>14</td>\n",
       "      <td>23.11.2024</td>\n",
       "      <td>Gigabox</td>\n",
       "    </tr>\n",
       "    <tr>\n",
       "      <th>2</th>\n",
       "      <td>3</td>\n",
       "      <td>Wine - White, Riesling, Henry Of</td>\n",
       "      <td>66</td>\n",
       "      <td>26.03.2024</td>\n",
       "      <td>Realcube</td>\n",
       "    </tr>\n",
       "    <tr>\n",
       "      <th>3</th>\n",
       "      <td>4</td>\n",
       "      <td>Cup - 6oz, Foam</td>\n",
       "      <td>45</td>\n",
       "      <td>26.03.2025</td>\n",
       "      <td>Linkbridge</td>\n",
       "    </tr>\n",
       "    <tr>\n",
       "      <th>4</th>\n",
       "      <td>5</td>\n",
       "      <td>Breadfruit</td>\n",
       "      <td>76</td>\n",
       "      <td>12.12.2024</td>\n",
       "      <td>Youbridge</td>\n",
       "    </tr>\n",
       "    <tr>\n",
       "      <th>...</th>\n",
       "      <td>...</td>\n",
       "      <td>...</td>\n",
       "      <td>...</td>\n",
       "      <td>...</td>\n",
       "      <td>...</td>\n",
       "    </tr>\n",
       "    <tr>\n",
       "      <th>995</th>\n",
       "      <td>996</td>\n",
       "      <td>Red Cod Fillets - 225g</td>\n",
       "      <td>49</td>\n",
       "      <td>03.05.2024</td>\n",
       "      <td>Thoughtmix</td>\n",
       "    </tr>\n",
       "    <tr>\n",
       "      <th>996</th>\n",
       "      <td>997</td>\n",
       "      <td>Nantuket Peach Orange</td>\n",
       "      <td>117</td>\n",
       "      <td>02.03.2025</td>\n",
       "      <td>Rhyzio</td>\n",
       "    </tr>\n",
       "    <tr>\n",
       "      <th>997</th>\n",
       "      <td>998</td>\n",
       "      <td>Tomato - Green</td>\n",
       "      <td>59</td>\n",
       "      <td>02.01.2024</td>\n",
       "      <td>Dynava</td>\n",
       "    </tr>\n",
       "    <tr>\n",
       "      <th>998</th>\n",
       "      <td>999</td>\n",
       "      <td>Sproutsmustard Cress</td>\n",
       "      <td>114</td>\n",
       "      <td>27.03.2024</td>\n",
       "      <td>Riffpath</td>\n",
       "    </tr>\n",
       "    <tr>\n",
       "      <th>999</th>\n",
       "      <td>1000</td>\n",
       "      <td>Banana - Green</td>\n",
       "      <td>19</td>\n",
       "      <td>02.03.2025</td>\n",
       "      <td>Twitterworks</td>\n",
       "    </tr>\n",
       "  </tbody>\n",
       "</table>\n",
       "<p>1000 rows × 5 columns</p>\n",
       "</div>"
      ],
      "text/plain": [
       "       id                           produto  price        date    fabricante\n",
       "0       1       Wine - Piper Heidsieck Brut     66  04.06.2024      Innotype\n",
       "1       2          Wine - Red, Mouton Cadet     14  23.11.2024       Gigabox\n",
       "2       3  Wine - White, Riesling, Henry Of     66  26.03.2024      Realcube\n",
       "3       4                   Cup - 6oz, Foam     45  26.03.2025    Linkbridge\n",
       "4       5                        Breadfruit     76  12.12.2024     Youbridge\n",
       "..    ...                               ...    ...         ...           ...\n",
       "995   996            Red Cod Fillets - 225g     49  03.05.2024    Thoughtmix\n",
       "996   997             Nantuket Peach Orange    117  02.03.2025        Rhyzio\n",
       "997   998                    Tomato - Green     59  02.01.2024        Dynava\n",
       "998   999              Sproutsmustard Cress    114  27.03.2024      Riffpath\n",
       "999  1000                    Banana - Green     19  02.03.2025  Twitterworks\n",
       "\n",
       "[1000 rows x 5 columns]"
      ]
     },
     "metadata": {},
     "output_type": "display_data"
    }
   ],
   "source": [
    "display(base)"
   ]
  },
  {
   "cell_type": "code",
   "execution_count": 9,
   "id": "71e3a904-1e1b-4148-ae65-80d4a9b0c895",
   "metadata": {
    "collapsed": true,
    "jupyter": {
     "outputs_hidden": true
    },
    "scrolled": true
   },
   "outputs": [
    {
     "data": {
      "text/html": [
       "<div>\n",
       "<style scoped>\n",
       "    .dataframe tbody tr th:only-of-type {\n",
       "        vertical-align: middle;\n",
       "    }\n",
       "\n",
       "    .dataframe tbody tr th {\n",
       "        vertical-align: top;\n",
       "    }\n",
       "\n",
       "    .dataframe thead th {\n",
       "        text-align: right;\n",
       "    }\n",
       "</style>\n",
       "<table border=\"1\" class=\"dataframe\">\n",
       "  <thead>\n",
       "    <tr style=\"text-align: right;\">\n",
       "      <th></th>\n",
       "      <th>id</th>\n",
       "      <th>produto</th>\n",
       "      <th>price</th>\n",
       "    </tr>\n",
       "  </thead>\n",
       "  <tbody>\n",
       "    <tr>\n",
       "      <th>1</th>\n",
       "      <td>2</td>\n",
       "      <td>Wine - Red, Mouton Cadet</td>\n",
       "      <td>14</td>\n",
       "    </tr>\n",
       "    <tr>\n",
       "      <th>3</th>\n",
       "      <td>4</td>\n",
       "      <td>Cup - 6oz, Foam</td>\n",
       "      <td>45</td>\n",
       "    </tr>\n",
       "    <tr>\n",
       "      <th>5</th>\n",
       "      <td>6</td>\n",
       "      <td>Chips Potato All Dressed - 43g</td>\n",
       "      <td>144</td>\n",
       "    </tr>\n",
       "    <tr>\n",
       "      <th>6</th>\n",
       "      <td>7</td>\n",
       "      <td>Rice - 7 Grain Blend</td>\n",
       "      <td>11</td>\n",
       "    </tr>\n",
       "    <tr>\n",
       "      <th>7</th>\n",
       "      <td>8</td>\n",
       "      <td>Coffee Swiss Choc Almond</td>\n",
       "      <td>43</td>\n",
       "    </tr>\n",
       "    <tr>\n",
       "      <th>...</th>\n",
       "      <td>...</td>\n",
       "      <td>...</td>\n",
       "      <td>...</td>\n",
       "    </tr>\n",
       "    <tr>\n",
       "      <th>995</th>\n",
       "      <td>996</td>\n",
       "      <td>Red Cod Fillets - 225g</td>\n",
       "      <td>49</td>\n",
       "    </tr>\n",
       "    <tr>\n",
       "      <th>996</th>\n",
       "      <td>997</td>\n",
       "      <td>Nantuket Peach Orange</td>\n",
       "      <td>117</td>\n",
       "    </tr>\n",
       "    <tr>\n",
       "      <th>997</th>\n",
       "      <td>998</td>\n",
       "      <td>Tomato - Green</td>\n",
       "      <td>59</td>\n",
       "    </tr>\n",
       "    <tr>\n",
       "      <th>998</th>\n",
       "      <td>999</td>\n",
       "      <td>Sproutsmustard Cress</td>\n",
       "      <td>114</td>\n",
       "    </tr>\n",
       "    <tr>\n",
       "      <th>999</th>\n",
       "      <td>1000</td>\n",
       "      <td>Banana - Green</td>\n",
       "      <td>19</td>\n",
       "    </tr>\n",
       "  </tbody>\n",
       "</table>\n",
       "<p>783 rows × 3 columns</p>\n",
       "</div>"
      ],
      "text/plain": [
       "       id                         produto  price\n",
       "1       2        Wine - Red, Mouton Cadet     14\n",
       "3       4                 Cup - 6oz, Foam     45\n",
       "5       6  Chips Potato All Dressed - 43g    144\n",
       "6       7            Rice - 7 Grain Blend     11\n",
       "7       8        Coffee Swiss Choc Almond     43\n",
       "..    ...                             ...    ...\n",
       "995   996          Red Cod Fillets - 225g     49\n",
       "996   997           Nantuket Peach Orange    117\n",
       "997   998                  Tomato - Green     59\n",
       "998   999            Sproutsmustard Cress    114\n",
       "999  1000                  Banana - Green     19\n",
       "\n",
       "[783 rows x 3 columns]"
      ]
     },
     "execution_count": 9,
     "metadata": {},
     "output_type": "execute_result"
    }
   ],
   "source": [
    "base.loc[(base.price < 60) | (base.price > 100), [\"id\", \"produto\", \"price\"]]"
   ]
  },
  {
   "cell_type": "code",
   "execution_count": 1,
   "id": "4f9f5a3c-e886-439e-b133-a011e12bdf22",
   "metadata": {},
   "outputs": [
    {
     "name": "stderr",
     "output_type": "stream",
     "text": [
      "Matplotlib is building the font cache; this may take a moment.\n"
     ]
    }
   ],
   "source": [
    "import matplotlib.pyplot as plt"
   ]
  },
  {
   "cell_type": "code",
   "execution_count": 24,
   "id": "94affed7-355f-4c70-9e62-4687c0f8a593",
   "metadata": {
    "scrolled": true
   },
   "outputs": [
    {
     "data": {
      "text/plain": [
       "<Axes: >"
      ]
     },
     "execution_count": 24,
     "metadata": {},
     "output_type": "execute_result"
    },
    {
     "data": {
      "image/png": "[encoded data removed]",
      "text/plain": [
       "<Figure size 640x480 with 1 Axes>"
      ]
     },
     "metadata": {},
     "output_type": "display_data"
    }
   ],
   "source": [
    "# base.price.hist()\n",
    "# base.price.hist(bins=20) # Define os agrupamentos dos dados em intervalos\n",
    "# base.price.hist(range=(33, 50)) # Define o intervalo (min, max) a serem incluídos no histograma\n",
    "# base.price.hist(orientation=\"horizontal\") # Define a orientação do gráfico\n",
    "base.price.hist(orientation=\"horizontal\", rwidth=0.8) # Define a orientação do gráfico"
   ]
  },
  {
   "cell_type": "code",
   "execution_count": null,
   "id": "7d08567d-7e71-4396-8022-c81f4bc48139",
   "metadata": {},
   "outputs": [],
   "source": []
  }
 ],
 "metadata": {
  "kernelspec": {
   "display_name": "Python 3 (ipykernel)",
   "language": "python",
   "name": "python3"
  },
  "language_info": {
   "codemirror_mode": {
    "name": "ipython",
    "version": 3
   },
   "file_extension": ".py",
   "mimetype": "text/x-python",
   "name": "python",
   "nbconvert_exporter": "python",
   "pygments_lexer": "ipython3",
   "version": "3.12.4"
  }
 },
 "nbformat": 4,
 "nbformat_minor": 5
}
